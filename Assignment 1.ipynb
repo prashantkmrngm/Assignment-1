{
 "cells": [
  {
   "cell_type": "code",
   "execution_count": 15,
   "id": "353b62d1-2c31-4dad-b326-5f643e5d94ea",
   "metadata": {},
   "outputs": [
    {
     "name": "stdout",
     "output_type": "stream",
     "text": [
      "This is the answer of Q1 I presented here\n",
      "Prashant Nigam\n",
      "[1, 2, 3, 'No of Assign']\n",
      "30.6\n",
      "(231, 42)\n"
     ]
    }
   ],
   "source": [
    "Q1={ \"Answer of Q1\":\"This is the answer of Q1 I presented here\",\n",
    "    \"My Name\":\"Prashant Nigam\",\n",
    "    \"Assignments List\":[1,2,3,\"No of Assign\"],\n",
    "    \"Age\":30.6,\n",
    "    \"Address\":(231,42,)}\n",
    "print(Q1[\"Answer of Q1\"])\n",
    "print(Q1[\"My Name\"])\n",
    "print(Q1[\"Assignments List\"])\n",
    "print(Q1[\"Age\"])\n",
    "print(Q1[\"Address\"])"
   ]
  },
  {
   "cell_type": "code",
   "execution_count": 37,
   "id": "3606889d-f8d0-406e-afed-f9b3d621f540",
   "metadata": {},
   "outputs": [
    {
     "name": "stdout",
     "output_type": "stream",
     "text": [
      "This is the answer of Q2 I presented here\n",
      "\n",
      "<class 'str'>\n",
      "[DS,ML,Python]\n",
      "<class 'str'>\n",
      "['DS', 'ML', 'Python']\n",
      "<class 'list'>\n",
      "1\n",
      "<class 'int'>\n"
     ]
    }
   ],
   "source": [
    "Q2={\"Answer of Q2\":\"This is the answer of Q2 I presented here\"}\n",
    "print(Q2[\"Answer of Q2\"])\n",
    "var1=''\n",
    "var2='[DS,ML,Python]'\n",
    "var3=['DS','ML','Python']\n",
    "var4=1\n",
    "print(var1)\n",
    "print(type(var1))\n",
    "print(var2)\n",
    "print(type(var2))\n",
    "print(var3)\n",
    "print(type(var3))\n",
    "print(var4)\n",
    "print(type(var4))"
   ]
  },
  {
   "cell_type": "code",
   "execution_count": 40,
   "id": "7a2f7493-09f9-4822-9c7a-17948cfe99cc",
   "metadata": {},
   "outputs": [
    {
     "name": "stdout",
     "output_type": "stream",
     "text": [
      "This is the answer of Q3 I presented here\n",
      "All are Airthmatic Operator\n"
     ]
    }
   ],
   "source": [
    "Q3={\"Answer of Q3\":\"This is the answer of Q3 I presented here\"}\n",
    "print(Q3[\"Answer of Q3\"])\n",
    "\n",
    "print(\"All are Airthmatic Operator\")"
   ]
  },
  {
   "cell_type": "code",
   "execution_count": 39,
   "id": "09e3c837-ae2f-41ef-a95e-eebd307332b8",
   "metadata": {},
   "outputs": [
    {
     "name": "stdout",
     "output_type": "stream",
     "text": [
      "This is the answer of Q4 I presented here\n",
      "i:1, Type:<class 'int'>\n",
      "i:2, Type:<class 'int'>\n",
      "i:3, Type:<class 'int'>\n",
      "i:4, Type:<class 'int'>\n",
      "i:5, Type:<class 'int'>\n",
      "i:6, Type:<class 'int'>\n",
      "i:7, Type:<class 'int'>\n",
      "i:Str, Type:<class 'str'>\n",
      "i:True, Type:<class 'bool'>\n",
      "i:34.56, Type:<class 'float'>\n"
     ]
    }
   ],
   "source": [
    "Q4={\"Answer of Q4\":\"This is the answer of Q4 I presented here\"}\n",
    "print(Q4[\"Answer of Q4\"])\n",
    "\n",
    "Q4=[1,2,3,4,5,6,7,\"Str\",True,34.56,]\n",
    "for i in Q4:\n",
    "    print(f\"i:{i}, Type:{type(i)}\")"
   ]
  },
  {
   "cell_type": "code",
   "execution_count": 19,
   "id": "77016815-8bf0-4b81-b256-6c8bb3dca3e2",
   "metadata": {},
   "outputs": [
    {
     "name": "stdout",
     "output_type": "stream",
     "text": [
      "This is the answer of Q5 I presented here\n"
     ]
    },
    {
     "name": "stdin",
     "output_type": "stream",
     "text": [
      "Enter the value of a :  10\n",
      "Enter the value of b :  2\n"
     ]
    },
    {
     "name": "stdout",
     "output_type": "stream",
     "text": [
      "a is divisible by b 1 time \n"
     ]
    }
   ],
   "source": [
    "Q5={\"Answer of Q5\":\"This is the answer of Q5 I presented here\"}\n",
    "print(Q5[\"Answer of Q5\"])\n",
    "\n",
    "a=int(input(\"Enter the value of a : \"))\n",
    "b=int(input(\"Enter the value of b : \"))\n",
    "count=0\n",
    "while a%b==0:\n",
    "    count+=1\n",
    "    a//=b\n",
    "    if count>0:\n",
    "        print(f\"a is divisible by b {count} time \")\n",
    "    elif count==0:\n",
    "        print(\"a is not divisible by b\")"
   ]
  },
  {
   "cell_type": "code",
   "execution_count": 41,
   "id": "3194278c-e670-4ae3-a524-6472b8280582",
   "metadata": {},
   "outputs": [
    {
     "name": "stdout",
     "output_type": "stream",
     "text": [
      "This is the answer of Q6 I presented here\n",
      "1 is not divided by 3\n",
      "2 is not divided by 3\n",
      "3 is divided by 3\n",
      "4 is not divided by 3\n",
      "5 is not divided by 3\n",
      "6 is divided by 3\n",
      "7 is not divided by 3\n",
      "8 is not divided by 3\n",
      "9 is divided by 3\n",
      "10 is not divided by 3\n",
      "11 is not divided by 3\n",
      "12 is divided by 3\n",
      "13 is not divided by 3\n",
      "14 is not divided by 3\n",
      "15 is divided by 3\n",
      "16 is not divided by 3\n",
      "17 is not divided by 3\n",
      "18 is divided by 3\n",
      "19 is not divided by 3\n",
      "20 is not divided by 3\n",
      "21 is divided by 3\n",
      "22 is not divided by 3\n",
      "23 is not divided by 3\n",
      "24 is divided by 3\n",
      "25 is not divided by 3\n"
     ]
    }
   ],
   "source": [
    "Q6={\"Answer of Q6\":\"This is the answer of Q6 I presented here\"}\n",
    "print(Q6[\"Answer of Q6\"])\n",
    "\n",
    "a=[1,2,3,4,5,6,7,8,9,10,11,12,13,14,15,16,17,18,19,20,21,22,23,24,25]\n",
    "for b in a:\n",
    "    if b%3==0:\n",
    "        print(f\"{b} is divided by 3\")\n",
    "    else:\n",
    "        print(f\"{b} is not divided by 3\")"
   ]
  },
  {
   "cell_type": "code",
   "execution_count": 42,
   "id": "46c8d88e-b713-4dc4-a72a-f4e9bc394020",
   "metadata": {},
   "outputs": [
    {
     "name": "stdout",
     "output_type": "stream",
     "text": [
      "This is the answer of Q7 I presented here\n",
      "[1, 2, 3, 'Prashant', True, 12.23]\n",
      "[1, 2, 3, 'Kumar', True, 12.23] List is mutable \n",
      "(1, 2, 3, 'Nigam', False, 54.23) Truple is immutable. See the eror\n"
     ]
    },
    {
     "ename": "TypeError",
     "evalue": "'tuple' object does not support item assignment",
     "output_type": "error",
     "traceback": [
      "\u001b[0;31m---------------------------------------------------------------------------\u001b[0m",
      "\u001b[0;31mTypeError\u001b[0m                                 Traceback (most recent call last)",
      "Cell \u001b[0;32mIn[42], line 11\u001b[0m\n\u001b[1;32m      9\u001b[0m s\n\u001b[1;32m     10\u001b[0m \u001b[38;5;28mprint\u001b[39m(\u001b[38;5;124mf\u001b[39m\u001b[38;5;124m\"\u001b[39m\u001b[38;5;132;01m{\u001b[39;00ms\u001b[38;5;132;01m}\u001b[39;00m\u001b[38;5;124m Truple is immutable. See the eror\u001b[39m\u001b[38;5;124m\"\u001b[39m)\n\u001b[0;32m---> 11\u001b[0m \u001b[43ms\u001b[49m\u001b[43m[\u001b[49m\u001b[38;5;241;43m3\u001b[39;49m\u001b[43m]\u001b[49m\u001b[38;5;241m=\u001b[39m\u001b[38;5;124m\"\u001b[39m\u001b[38;5;124mPrashant\u001b[39m\u001b[38;5;124m\"\u001b[39m\n",
      "\u001b[0;31mTypeError\u001b[0m: 'tuple' object does not support item assignment"
     ]
    }
   ],
   "source": [
    "Q7={\"Answer of Q7\":\"This is the answer of Q7 I presented here\"}\n",
    "print(Q7[\"Answer of Q7\"])\n",
    "\n",
    "l=[1,2,3,\"Prashant\",True,12.23]\n",
    "print(l)\n",
    "l[3]='Kumar'\n",
    "print(f\"{l} List is mutable \")\n",
    "s=(1,2,3,\"Nigam\",False,54.23)\n",
    "s\n",
    "print(f\"{s} Truple is immutable. See the eror\")\n",
    "s[3]=\"Prashant\"\n"
   ]
  },
  {
   "cell_type": "code",
   "execution_count": null,
   "id": "6f484b45-26f0-428c-9c5d-4c2e15cdbad0",
   "metadata": {},
   "outputs": [],
   "source": []
  }
 ],
 "metadata": {
  "kernelspec": {
   "display_name": "Python 3 (ipykernel)",
   "language": "python",
   "name": "python3"
  },
  "language_info": {
   "codemirror_mode": {
    "name": "ipython",
    "version": 3
   },
   "file_extension": ".py",
   "mimetype": "text/x-python",
   "name": "python",
   "nbconvert_exporter": "python",
   "pygments_lexer": "ipython3",
   "version": "3.10.8"
  }
 },
 "nbformat": 4,
 "nbformat_minor": 5
}
