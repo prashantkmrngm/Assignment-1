{
 "cells": [
  {
   "cell_type": "code",
   "execution_count": 55,
   "id": "09215c51-a20d-4590-b632-64f39613769a",
   "metadata": {},
   "outputs": [
    {
     "name": "stdout",
     "output_type": "stream",
     "text": [
      "Ans of Q1\n",
      "This is my comment\n"
     ]
    },
    {
     "data": {
      "text/plain": [
       "\" This is Multiline Comment in Python\\n    My name is Prashant Nigam\\n    I'm from Gorakhpur\""
      ]
     },
     "execution_count": 55,
     "metadata": {},
     "output_type": "execute_result"
    }
   ],
   "source": [
    "Q1=\"Ans of Q1\"\n",
    "print(Q1)\n",
    "print(\"This is my comment\") # this is Inline Comment in Python\n",
    "\n",
    "\"\"\" This is Multiline Comment in Python\n",
    "    My name is Prashant Nigam\n",
    "    I'm from Gorakhpur\"\"\" # this is multilines comment in pyhton"
   ]
  },
  {
   "cell_type": "code",
   "execution_count": 56,
   "id": "3474f5b9-7663-4696-926e-2e4d5ed981b6",
   "metadata": {},
   "outputs": [
    {
     "name": "stdout",
     "output_type": "stream",
     "text": [
      "Ans of Q2\n",
      "Variable is a alphanumeric keyword with underscore for assign an object or data like \n",
      "110        Integer\n",
      "Prashant   String\n",
      "23.34      Float\n",
      "110, Prashant, 23.34 single line variable data\n"
     ]
    }
   ],
   "source": [
    "Q2=\"Ans of Q2\"\n",
    "print(Q2)\n",
    "print(\"Variable is a alphanumeric keyword with underscore for assign an object or data like \")\n",
    "\n",
    "a=110 # Integer data in a variable\n",
    "print(f\"{a}        Integer\")\n",
    "b=\"Prashant\" # String data in b variable\n",
    "print(f\"{b}   String\")\n",
    "c=23.34 # Float data in c variable\n",
    "print(f\"{c}      Float\")\n",
    "\n",
    "print(f\"{a}, {b}, {c} single line variable data\")\n"
   ]
  },
  {
   "cell_type": "code",
   "execution_count": 57,
   "id": "e301e57d-7497-46e8-b29f-7e55625e7cbe",
   "metadata": {},
   "outputs": [
    {
     "name": "stdout",
     "output_type": "stream",
     "text": [
      "Ans of Q3\n",
      "<class 'int'>\n",
      "50 <class 'str'>\n",
      "<class 'str'>  data type string in 3 num of index in the list\n",
      "<class 'int'>  data type integer in 3 num of index in the list after chng \n"
     ]
    }
   ],
   "source": [
    "Q3=\"Ans of Q3\"\n",
    "print(Q3)\n",
    "e=50\n",
    "print(type(e))\n",
    "f=str(e)\n",
    "print(f, type(f))\n",
    "d=[1,2,3,\"Kumar\",True,43.54]\n",
    "print(type(d[3]),\" data type string in 3 num of index in the list\")\n",
    "d[3]=1258\n",
    "print(type(d[3]),\" data type integer in 3 num of index in the list after chng \")"
   ]
  },
  {
   "cell_type": "code",
   "execution_count": 59,
   "id": "9f541fa3-1ae0-40b0-8126-9d38d6f4e3a4",
   "metadata": {},
   "outputs": [
    {
     "name": "stdout",
     "output_type": "stream",
     "text": [
      "Ans of Q4\n"
     ]
    },
    {
     "data": {
      "text/plain": [
       "' wirte any thing as command to create data. \\n    and execute commmand with shift+enter or ctrl+enter'"
      ]
     },
     "execution_count": 59,
     "metadata": {},
     "output_type": "execute_result"
    }
   ],
   "source": [
    "Q4=\"Ans of Q4\"\n",
    "print(Q4)\n",
    "\"\"\" wirte any thing as command to create data. \n",
    "    and execute commmand with shift+enter or ctrl+enter\"\"\""
   ]
  },
  {
   "cell_type": "code",
   "execution_count": 60,
   "id": "63cc731a-9afc-494e-bcc7-669f85753ce6",
   "metadata": {},
   "outputs": [
    {
     "name": "stdout",
     "output_type": "stream",
     "text": [
      "Ans of Q5\n",
      "[1, 2, 3, 4, 5]\n",
      "[2, 3]\n"
     ]
    }
   ],
   "source": [
    "Q5=\"Ans of Q5\"\n",
    "print(Q5)\n",
    "my_list=[1,2,3,4,5]\n",
    "print(my_list)\n",
    "my_list2 = my_list[1:3]\n",
    "print(my_list2)"
   ]
  },
  {
   "cell_type": "code",
   "execution_count": 61,
   "id": "9b44dae3-3b8d-40ff-a56e-95b2557d2c5f",
   "metadata": {},
   "outputs": [
    {
     "name": "stdout",
     "output_type": "stream",
     "text": [
      "Ans of Q6\n",
      "(6+5j) <class 'complex'>\n"
     ]
    }
   ],
   "source": [
    "Q6=\"Ans of Q6\"\n",
    "print(Q6)\n",
    "Q6=6+5j\n",
    "print(Q6,   type(Q6))"
   ]
  },
  {
   "cell_type": "code",
   "execution_count": 62,
   "id": "31a723aa-c449-450f-8367-b0c141ea2599",
   "metadata": {},
   "outputs": [
    {
     "name": "stdout",
     "output_type": "stream",
     "text": [
      "Ans of Q7\n",
      "25\n"
     ]
    }
   ],
   "source": [
    "Q7=\"Ans of Q7\"\n",
    "print(Q7)\n",
    "age=25\n",
    "print(age)\n"
   ]
  },
  {
   "cell_type": "code",
   "execution_count": 63,
   "id": "3b1fc0c0-c4a9-4717-a9f0-d9a658701513",
   "metadata": {},
   "outputs": [
    {
     "name": "stdout",
     "output_type": "stream",
     "text": [
      "Ans of Q8\n",
      "9.99 <class 'float'>\n"
     ]
    }
   ],
   "source": [
    "Q8=\"Ans of Q8\"\n",
    "print(Q8)\n",
    "price=9.99\n",
    "print(price,   type(price))"
   ]
  },
  {
   "cell_type": "code",
   "execution_count": 64,
   "id": "54ebdc34-4f29-4ef8-a1f4-4108e98e1dac",
   "metadata": {},
   "outputs": [
    {
     "name": "stdout",
     "output_type": "stream",
     "text": [
      "Ans of Q9\n",
      "Prashant Kumar Nigam <class 'str'>\n"
     ]
    }
   ],
   "source": [
    "Q9=\"Ans of Q9\"\n",
    "print(Q9)\n",
    "Name=\"Prashant Kumar Nigam\"\n",
    "print(Name,    type(Name))"
   ]
  },
  {
   "cell_type": "code",
   "execution_count": 65,
   "id": "a5facf69-2d8a-4d08-a6e0-986688ebee67",
   "metadata": {},
   "outputs": [
    {
     "name": "stdout",
     "output_type": "stream",
     "text": [
      "Ans of Q10\n",
      "Hello, World!\n",
      " World\n"
     ]
    }
   ],
   "source": [
    "Q10=\"Ans of Q10\"\n",
    "print(Q10)\n",
    "Q10=\"Hello, World!\"\n",
    "print(Q10)\n",
    "print(Q10[6:12])"
   ]
  },
  {
   "cell_type": "code",
   "execution_count": 66,
   "id": "e914b7b3-63e7-4baf-91ad-8c3f78975fba",
   "metadata": {},
   "outputs": [
    {
     "name": "stdout",
     "output_type": "stream",
     "text": [
      "Ans of Q11\n",
      "i am a student. True <class 'bool'>\n"
     ]
    }
   ],
   "source": [
    "Q11=\"Ans of Q11\"\n",
    "print(Q11)\n",
    "is_student = True\n",
    "print(f\"i am a student. {is_student}\",  type(is_student))"
   ]
  },
  {
   "cell_type": "code",
   "execution_count": null,
   "id": "9d8fb84a-e71c-4cd9-beed-30258d79a482",
   "metadata": {},
   "outputs": [],
   "source": []
  }
 ],
 "metadata": {
  "kernelspec": {
   "display_name": "Python 3 (ipykernel)",
   "language": "python",
   "name": "python3"
  },
  "language_info": {
   "codemirror_mode": {
    "name": "ipython",
    "version": 3
   },
   "file_extension": ".py",
   "mimetype": "text/x-python",
   "name": "python",
   "nbconvert_exporter": "python",
   "pygments_lexer": "ipython3",
   "version": "3.10.8"
  }
 },
 "nbformat": 4,
 "nbformat_minor": 5
}
